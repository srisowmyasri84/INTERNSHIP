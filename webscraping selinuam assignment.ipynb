{
 "cells": [
  {
   "cell_type": "code",
   "execution_count": 57,
   "id": "80d05cd1",
   "metadata": {},
   "outputs": [],
   "source": [
    "import selenium\n",
    "from selenium import webdriver\n",
    "import pandas as pd\n",
    "import warnings\n",
    "warnings.filterwarnings(\"ignore\")"
   ]
  },
  {
   "cell_type": "code",
   "execution_count": 67,
   "id": "ccf1174c",
   "metadata": {},
   "outputs": [],
   "source": [
    "driver = webdriver.Chrome('chromedriver.exe')"
   ]
  },
  {
   "cell_type": "code",
   "execution_count": 68,
   "id": "40605120",
   "metadata": {},
   "outputs": [],
   "source": [
    "url = 'https://www.naukri.com/'\n",
    "driver.get(url)"
   ]
  },
  {
   "cell_type": "code",
   "execution_count": 69,
   "id": "b707b609",
   "metadata": {},
   "outputs": [],
   "source": [
    "search_job = driver.find_element_by_class_name(\"suggestor-input\")\n",
    "search_job\n",
    "search_job.send_keys(\"Data Analyst\")\n",
    "search_locn = driver.find_element_by_xpath('/html/body/div/div[2]/div[3]/div/div/div[3]/div/div/div/input')\n",
    "search_locn\n",
    "search_locn.send_keys(\"bangalore\")\n"
   ]
  },
  {
   "cell_type": "code",
   "execution_count": 72,
   "id": "a8ef0816",
   "metadata": {},
   "outputs": [],
   "source": [
    "search_btn = driver.find_element_by_xpath('/html/body/div/div[2]/div[3]/div/div/div[6]')\n",
    "search_btn\n",
    "search_btn.click()"
   ]
  },
  {
   "cell_type": "code",
   "execution_count": 73,
   "id": "1a4ab058",
   "metadata": {},
   "outputs": [
    {
     "data": {
      "text/plain": [
       "['Senior Marketing Data Analyst',\n",
       " 'Business Data Analyst - Google Data Studio & SQL',\n",
       " 'Junior Data Analyst/ Scientist- Fresher Position',\n",
       " 'Data Analyst - Marketing - 6 month Contractual Role']"
      ]
     },
     "execution_count": 73,
     "metadata": {},
     "output_type": "execute_result"
    }
   ],
   "source": [
    "title_tags = driver.find_elements_by_xpath('//a[@class=\"title fw500 ellipsis\"]')\n",
    "len(title_tags)\n",
    "job_titles = []\n",
    "for i in title_tags:\n",
    "    job_titles.append(i.text)\n",
    "len(job_titles)\n",
    "job_titles[0:4]"
   ]
  },
  {
   "cell_type": "code",
   "execution_count": 74,
   "id": "c8687d14",
   "metadata": {},
   "outputs": [
    {
     "data": {
      "text/plain": [
       "['Bangalore/Bengaluru',\n",
       " 'Bangalore/Bengaluru',\n",
       " 'Hyderabad/Secunderabad, Pune, Chennai, Bangalore/Bengaluru, Delhi / NCR, Mumbai (All Areas)\\n(WFH during Covid)',\n",
       " 'Bangalore/Bengaluru(Koramangala)',\n",
       " 'Bangalore/Bengaluru',\n",
       " 'Bangalore/Bengaluru',\n",
       " 'Hyderabad/Secunderabad, Bangalore/Bengaluru',\n",
       " 'Gurgaon/Gurugram, Bangalore/Bengaluru',\n",
       " 'Bangalore/Bengaluru',\n",
       " 'Hyderabad/Secunderabad, Gurgaon/Gurugram, Bangalore/Bengaluru\\n(WFH during Covid)']"
      ]
     },
     "execution_count": 74,
     "metadata": {},
     "output_type": "execute_result"
    }
   ],
   "source": [
    "company_loc = driver.find_elements_by_xpath('//li[@class=\"fleft grey-text br2 placeHolderLi location\"]')\n",
    "len(company_loc)\n",
    "location = []\n",
    "for i in company_loc:\n",
    "    location.append(i.text)\n",
    "len(location)\n",
    "location[0:10]"
   ]
  },
  {
   "cell_type": "code",
   "execution_count": 75,
   "id": "8351d382",
   "metadata": {},
   "outputs": [
    {
     "data": {
      "text/plain": [
       "['Tide Software',\n",
       " 'AVE-Promagne',\n",
       " 'Sejal Consulting Hub',\n",
       " 'Razorpay',\n",
       " 'Tide Software',\n",
       " 'Gojek',\n",
       " 'Sollys Consulting and Solutions Pvt Ltd',\n",
       " 'Wipro',\n",
       " 'IHS Markit',\n",
       " 'Syneos Health']"
      ]
     },
     "execution_count": 75,
     "metadata": {},
     "output_type": "execute_result"
    }
   ],
   "source": [
    "company_tags = driver.find_elements_by_xpath('//a[@class=\"subTitle ellipsis fleft\"]')\n",
    "len(company_tags)\n",
    "company_name = []\n",
    "for i in company_tags:\n",
    "    company_name.append(i.text)\n",
    "len(company_name)\n",
    "company_name[0:10]"
   ]
  },
  {
   "cell_type": "code",
   "execution_count": 76,
   "id": "bfc1fac0",
   "metadata": {},
   "outputs": [
    {
     "data": {
      "text/plain": [
       "['0-4 Yrs',\n",
       " '3-8 Yrs',\n",
       " '0-3 Yrs',\n",
       " '0-1 Yrs',\n",
       " '0-3 Yrs',\n",
       " '3-8 Yrs',\n",
       " '5-10 Yrs',\n",
       " '4-7 Yrs',\n",
       " '3-6 Yrs',\n",
       " '4-7 Yrs']"
      ]
     },
     "execution_count": 76,
     "metadata": {},
     "output_type": "execute_result"
    }
   ],
   "source": [
    "experiance = driver.find_elements_by_xpath('//li[@class=\"fleft grey-text br2 placeHolderLi experience\"]')\n",
    "len(experiance)\n",
    "exp = []\n",
    "for i in experiance:\n",
    "    exp.append(i.text)\n",
    "len(exp)\n",
    "exp[0:10]"
   ]
  },
  {
   "cell_type": "code",
   "execution_count": 77,
   "id": "80923a9f",
   "metadata": {},
   "outputs": [
    {
     "data": {
      "text/plain": [
       "(20, 20, 20, 20)"
      ]
     },
     "execution_count": 77,
     "metadata": {},
     "output_type": "execute_result"
    }
   ],
   "source": [
    "len(job_titles),len(location),len(company_name),len(exp)"
   ]
  },
  {
   "cell_type": "code",
   "execution_count": 78,
   "id": "e7b40264",
   "metadata": {},
   "outputs": [
    {
     "data": {
      "text/html": [
       "<div>\n",
       "<style scoped>\n",
       "    .dataframe tbody tr th:only-of-type {\n",
       "        vertical-align: middle;\n",
       "    }\n",
       "\n",
       "    .dataframe tbody tr th {\n",
       "        vertical-align: top;\n",
       "    }\n",
       "\n",
       "    .dataframe thead th {\n",
       "        text-align: right;\n",
       "    }\n",
       "</style>\n",
       "<table border=\"1\" class=\"dataframe\">\n",
       "  <thead>\n",
       "    <tr style=\"text-align: right;\">\n",
       "      <th></th>\n",
       "      <th>Job Title</th>\n",
       "      <th>Company</th>\n",
       "      <th>Location</th>\n",
       "      <th>Experince</th>\n",
       "    </tr>\n",
       "  </thead>\n",
       "  <tbody>\n",
       "    <tr>\n",
       "      <th>0</th>\n",
       "      <td>Senior Marketing Data Analyst</td>\n",
       "      <td>Tide Software</td>\n",
       "      <td>Bangalore/Bengaluru</td>\n",
       "      <td>0-4 Yrs</td>\n",
       "    </tr>\n",
       "    <tr>\n",
       "      <th>1</th>\n",
       "      <td>Business Data Analyst - Google Data Studio &amp; SQL</td>\n",
       "      <td>AVE-Promagne</td>\n",
       "      <td>Bangalore/Bengaluru</td>\n",
       "      <td>3-8 Yrs</td>\n",
       "    </tr>\n",
       "    <tr>\n",
       "      <th>2</th>\n",
       "      <td>Junior Data Analyst/ Scientist- Fresher Position</td>\n",
       "      <td>Sejal Consulting Hub</td>\n",
       "      <td>Hyderabad/Secunderabad, Pune, Chennai, Bangalo...</td>\n",
       "      <td>0-3 Yrs</td>\n",
       "    </tr>\n",
       "    <tr>\n",
       "      <th>3</th>\n",
       "      <td>Data Analyst - Marketing - 6 month Contractual...</td>\n",
       "      <td>Razorpay</td>\n",
       "      <td>Bangalore/Bengaluru(Koramangala)</td>\n",
       "      <td>0-1 Yrs</td>\n",
       "    </tr>\n",
       "    <tr>\n",
       "      <th>4</th>\n",
       "      <td>Marketing Data Analyst</td>\n",
       "      <td>Tide Software</td>\n",
       "      <td>Bangalore/Bengaluru</td>\n",
       "      <td>0-3 Yrs</td>\n",
       "    </tr>\n",
       "    <tr>\n",
       "      <th>5</th>\n",
       "      <td>Senior Data Analyst - CRM</td>\n",
       "      <td>Gojek</td>\n",
       "      <td>Bangalore/Bengaluru</td>\n",
       "      <td>3-8 Yrs</td>\n",
       "    </tr>\n",
       "    <tr>\n",
       "      <th>6</th>\n",
       "      <td>Data Analyst</td>\n",
       "      <td>Sollys Consulting and Solutions Pvt Ltd</td>\n",
       "      <td>Hyderabad/Secunderabad, Bangalore/Bengaluru</td>\n",
       "      <td>5-10 Yrs</td>\n",
       "    </tr>\n",
       "    <tr>\n",
       "      <th>7</th>\n",
       "      <td>Data Analyst with SQL</td>\n",
       "      <td>Wipro</td>\n",
       "      <td>Gurgaon/Gurugram, Bangalore/Bengaluru</td>\n",
       "      <td>4-7 Yrs</td>\n",
       "    </tr>\n",
       "    <tr>\n",
       "      <th>8</th>\n",
       "      <td>Sr Data Analyst II</td>\n",
       "      <td>IHS Markit</td>\n",
       "      <td>Bangalore/Bengaluru</td>\n",
       "      <td>3-6 Yrs</td>\n",
       "    </tr>\n",
       "    <tr>\n",
       "      <th>9</th>\n",
       "      <td>Senior Data analyst (Azure / MDM)</td>\n",
       "      <td>Syneos Health</td>\n",
       "      <td>Hyderabad/Secunderabad, Gurgaon/Gurugram, Bang...</td>\n",
       "      <td>4-7 Yrs</td>\n",
       "    </tr>\n",
       "  </tbody>\n",
       "</table>\n",
       "</div>"
      ],
      "text/plain": [
       "                                           Job Title  \\\n",
       "0                      Senior Marketing Data Analyst   \n",
       "1   Business Data Analyst - Google Data Studio & SQL   \n",
       "2   Junior Data Analyst/ Scientist- Fresher Position   \n",
       "3  Data Analyst - Marketing - 6 month Contractual...   \n",
       "4                             Marketing Data Analyst   \n",
       "5                          Senior Data Analyst - CRM   \n",
       "6                                       Data Analyst   \n",
       "7                              Data Analyst with SQL   \n",
       "8                                 Sr Data Analyst II   \n",
       "9                  Senior Data analyst (Azure / MDM)   \n",
       "\n",
       "                                   Company  \\\n",
       "0                            Tide Software   \n",
       "1                             AVE-Promagne   \n",
       "2                     Sejal Consulting Hub   \n",
       "3                                 Razorpay   \n",
       "4                            Tide Software   \n",
       "5                                    Gojek   \n",
       "6  Sollys Consulting and Solutions Pvt Ltd   \n",
       "7                                    Wipro   \n",
       "8                               IHS Markit   \n",
       "9                            Syneos Health   \n",
       "\n",
       "                                            Location Experince  \n",
       "0                                Bangalore/Bengaluru   0-4 Yrs  \n",
       "1                                Bangalore/Bengaluru   3-8 Yrs  \n",
       "2  Hyderabad/Secunderabad, Pune, Chennai, Bangalo...   0-3 Yrs  \n",
       "3                   Bangalore/Bengaluru(Koramangala)   0-1 Yrs  \n",
       "4                                Bangalore/Bengaluru   0-3 Yrs  \n",
       "5                                Bangalore/Bengaluru   3-8 Yrs  \n",
       "6        Hyderabad/Secunderabad, Bangalore/Bengaluru  5-10 Yrs  \n",
       "7              Gurgaon/Gurugram, Bangalore/Bengaluru   4-7 Yrs  \n",
       "8                                Bangalore/Bengaluru   3-6 Yrs  \n",
       "9  Hyderabad/Secunderabad, Gurgaon/Gurugram, Bang...   4-7 Yrs  "
      ]
     },
     "execution_count": 78,
     "metadata": {},
     "output_type": "execute_result"
    }
   ],
   "source": [
    "jobs = pd.DataFrame()\n",
    "jobs['Job Title'] = job_titles\n",
    "jobs['Company'] = company_name\n",
    "jobs['Location'] = location\n",
    "jobs['Experince'] = exp\n",
    "jobs[0:10]"
   ]
  },
  {
   "cell_type": "markdown",
   "id": "bffcb215",
   "metadata": {},
   "source": [
    "# Q2: Write a python program to scrape data for “Data Scientist” Job position in “Bangalore” location. \n"
   ]
  },
  {
   "cell_type": "code",
   "execution_count": 79,
   "id": "e23a1119",
   "metadata": {},
   "outputs": [],
   "source": [
    "driver = webdriver.Chrome('chromedriver.exe')"
   ]
  },
  {
   "cell_type": "code",
   "execution_count": 80,
   "id": "300d2ed9",
   "metadata": {},
   "outputs": [],
   "source": [
    "url = 'https://www.naukri.com/'\n",
    "driver.get(url)"
   ]
  },
  {
   "cell_type": "code",
   "execution_count": 81,
   "id": "84632525",
   "metadata": {},
   "outputs": [],
   "source": [
    "search_job = driver.find_element_by_class_name(\"suggestor-input\")\n",
    "search_job\n",
    "search_job.send_keys(\"Data Scientist\")\n",
    "search_locn = driver.find_element_by_xpath('/html/body/div/div[2]/div[3]/div/div/div[3]/div/div/div/input')\n",
    "search_locn\n",
    "search_locn.send_keys(\"bangalore\")\n"
   ]
  },
  {
   "cell_type": "code",
   "execution_count": 82,
   "id": "06de0e4b",
   "metadata": {},
   "outputs": [],
   "source": [
    "search_btn = driver.find_element_by_xpath('/html/body/div/div[2]/div[3]/div/div/div[6]')\n",
    "search_btn\n",
    "search_btn.click()"
   ]
  },
  {
   "cell_type": "code",
   "execution_count": 83,
   "id": "13dc125c",
   "metadata": {},
   "outputs": [
    {
     "data": {
      "text/plain": [
       "['Senior Data Scientist',\n",
       " 'Data Scientist: Advanced Analytics',\n",
       " 'Data Scientist',\n",
       " 'Data Scientist: Artificial Intelligence']"
      ]
     },
     "execution_count": 83,
     "metadata": {},
     "output_type": "execute_result"
    }
   ],
   "source": [
    "title_tags = driver.find_elements_by_xpath('//a[@class=\"title fw500 ellipsis\"]')\n",
    "len(title_tags)\n",
    "job_titles = []\n",
    "for i in title_tags:\n",
    "    job_titles.append(i.text)\n",
    "len(job_titles)\n",
    "job_titles[0:4]"
   ]
  },
  {
   "cell_type": "code",
   "execution_count": 84,
   "id": "db661e30",
   "metadata": {},
   "outputs": [
    {
     "data": {
      "text/plain": [
       "['Bangalore/Bengaluru',\n",
       " 'Bangalore/Bengaluru',\n",
       " 'Bangalore/Bengaluru',\n",
       " 'Bangalore/Bengaluru',\n",
       " 'Bangalore/Bengaluru',\n",
       " 'Bangalore/Bengaluru',\n",
       " 'Bangalore/Bengaluru',\n",
       " 'Remote',\n",
       " 'Bangalore/Bengaluru',\n",
       " 'Bangalore/Bengaluru']"
      ]
     },
     "execution_count": 84,
     "metadata": {},
     "output_type": "execute_result"
    }
   ],
   "source": [
    "company_loc = driver.find_elements_by_xpath('//li[@class=\"fleft grey-text br2 placeHolderLi location\"]')\n",
    "len(company_loc)\n",
    "location = []\n",
    "for i in company_loc:\n",
    "    location.append(i.text)\n",
    "len(location)\n",
    "location[0:10]"
   ]
  },
  {
   "cell_type": "code",
   "execution_count": 85,
   "id": "9ba6aec0",
   "metadata": {},
   "outputs": [
    {
     "data": {
      "text/plain": [
       "['GSK India',\n",
       " 'IBM',\n",
       " 'GSK India',\n",
       " 'IBM',\n",
       " 'Gojek',\n",
       " 'Gojek',\n",
       " 'Gojek',\n",
       " 'ORMAE LLP',\n",
       " 'Rakuten, Inc.',\n",
       " 'News Technology Services']"
      ]
     },
     "execution_count": 85,
     "metadata": {},
     "output_type": "execute_result"
    }
   ],
   "source": [
    "company_tags = driver.find_elements_by_xpath('//a[@class=\"subTitle ellipsis fleft\"]')\n",
    "len(company_tags)\n",
    "company_name = []\n",
    "for i in company_tags:\n",
    "    company_name.append(i.text)\n",
    "len(company_name)\n",
    "company_name[0:10]"
   ]
  },
  {
   "cell_type": "code",
   "execution_count": 86,
   "id": "e6c2416b",
   "metadata": {},
   "outputs": [
    {
     "data": {
      "text/html": [
       "<div>\n",
       "<style scoped>\n",
       "    .dataframe tbody tr th:only-of-type {\n",
       "        vertical-align: middle;\n",
       "    }\n",
       "\n",
       "    .dataframe tbody tr th {\n",
       "        vertical-align: top;\n",
       "    }\n",
       "\n",
       "    .dataframe thead th {\n",
       "        text-align: right;\n",
       "    }\n",
       "</style>\n",
       "<table border=\"1\" class=\"dataframe\">\n",
       "  <thead>\n",
       "    <tr style=\"text-align: right;\">\n",
       "      <th></th>\n",
       "      <th>Job Title</th>\n",
       "      <th>Company</th>\n",
       "      <th>Location</th>\n",
       "    </tr>\n",
       "  </thead>\n",
       "  <tbody>\n",
       "    <tr>\n",
       "      <th>0</th>\n",
       "      <td>Senior Data Scientist</td>\n",
       "      <td>GSK India</td>\n",
       "      <td>Bangalore/Bengaluru</td>\n",
       "    </tr>\n",
       "    <tr>\n",
       "      <th>1</th>\n",
       "      <td>Data Scientist: Advanced Analytics</td>\n",
       "      <td>IBM</td>\n",
       "      <td>Bangalore/Bengaluru</td>\n",
       "    </tr>\n",
       "    <tr>\n",
       "      <th>2</th>\n",
       "      <td>Data Scientist</td>\n",
       "      <td>GSK India</td>\n",
       "      <td>Bangalore/Bengaluru</td>\n",
       "    </tr>\n",
       "    <tr>\n",
       "      <th>3</th>\n",
       "      <td>Data Scientist: Artificial Intelligence</td>\n",
       "      <td>IBM</td>\n",
       "      <td>Bangalore/Bengaluru</td>\n",
       "    </tr>\n",
       "    <tr>\n",
       "      <th>4</th>\n",
       "      <td>Senior Data Scientist</td>\n",
       "      <td>Gojek</td>\n",
       "      <td>Bangalore/Bengaluru</td>\n",
       "    </tr>\n",
       "    <tr>\n",
       "      <th>5</th>\n",
       "      <td>Senior Data Scientist</td>\n",
       "      <td>Gojek</td>\n",
       "      <td>Bangalore/Bengaluru</td>\n",
       "    </tr>\n",
       "    <tr>\n",
       "      <th>6</th>\n",
       "      <td>Senior Data Scientist - Logistics</td>\n",
       "      <td>Gojek</td>\n",
       "      <td>Bangalore/Bengaluru</td>\n",
       "    </tr>\n",
       "    <tr>\n",
       "      <th>7</th>\n",
       "      <td>Senior Data Scientist</td>\n",
       "      <td>ORMAE LLP</td>\n",
       "      <td>Remote</td>\n",
       "    </tr>\n",
       "    <tr>\n",
       "      <th>8</th>\n",
       "      <td>Senior Data Scientist</td>\n",
       "      <td>Rakuten, Inc.</td>\n",
       "      <td>Bangalore/Bengaluru</td>\n",
       "    </tr>\n",
       "    <tr>\n",
       "      <th>9</th>\n",
       "      <td>Senior Data Scientist</td>\n",
       "      <td>News Technology Services</td>\n",
       "      <td>Bangalore/Bengaluru</td>\n",
       "    </tr>\n",
       "  </tbody>\n",
       "</table>\n",
       "</div>"
      ],
      "text/plain": [
       "                                 Job Title                   Company  \\\n",
       "0                    Senior Data Scientist                 GSK India   \n",
       "1       Data Scientist: Advanced Analytics                       IBM   \n",
       "2                           Data Scientist                 GSK India   \n",
       "3  Data Scientist: Artificial Intelligence                       IBM   \n",
       "4                    Senior Data Scientist                     Gojek   \n",
       "5                    Senior Data Scientist                     Gojek   \n",
       "6        Senior Data Scientist - Logistics                     Gojek   \n",
       "7                    Senior Data Scientist                 ORMAE LLP   \n",
       "8                    Senior Data Scientist             Rakuten, Inc.   \n",
       "9                    Senior Data Scientist  News Technology Services   \n",
       "\n",
       "              Location  \n",
       "0  Bangalore/Bengaluru  \n",
       "1  Bangalore/Bengaluru  \n",
       "2  Bangalore/Bengaluru  \n",
       "3  Bangalore/Bengaluru  \n",
       "4  Bangalore/Bengaluru  \n",
       "5  Bangalore/Bengaluru  \n",
       "6  Bangalore/Bengaluru  \n",
       "7               Remote  \n",
       "8  Bangalore/Bengaluru  \n",
       "9  Bangalore/Bengaluru  "
      ]
     },
     "execution_count": 86,
     "metadata": {},
     "output_type": "execute_result"
    }
   ],
   "source": [
    "jobs = pd.DataFrame()\n",
    "jobs['Job Title'] = job_titles\n",
    "jobs['Company'] = company_name\n",
    "jobs['Location'] = location\n",
    "jobs[0:10]"
   ]
  },
  {
   "cell_type": "markdown",
   "id": "04983207",
   "metadata": {},
   "source": [
    "# Q3: In this question you have to scrape data using the filters available on the webpage as shown below:\n"
   ]
  },
  {
   "cell_type": "code",
   "execution_count": null,
   "id": "47d22c68",
   "metadata": {},
   "outputs": [],
   "source": [
    "driver = webdriver.Chrome('chromedriver.exe')\n",
    "url = 'https://www.naukri.com/'\n",
    "driver.get(url)"
   ]
  },
  {
   "cell_type": "code",
   "execution_count": null,
   "id": "110dc3a2",
   "metadata": {},
   "outputs": [],
   "source": [
    "search_job = driver.find_element_by_class_name(\"suggestor-input\")\n",
    "search_job\n",
    "search_job.send_keys(\"Data Scientist\")\n",
    "#search_locn = driver.find_element_by_xpath('/html/body/div/div[2]/div[3]/div/div/div[3]/div/div/div/input')\n",
    "#search_locn\n",
    "#search_locn.send_keys(\"bangalore\")"
   ]
  },
  {
   "cell_type": "code",
   "execution_count": null,
   "id": "2e085211",
   "metadata": {},
   "outputs": [],
   "source": [
    "search_btn = driver.find_element_by_xpath('/html/body/div/div[2]/div[3]/div/div/div[6]')\n",
    "search_btn\n",
    "search_btn.click()"
   ]
  },
  {
   "cell_type": "code",
   "execution_count": null,
   "id": "33ff7b2e",
   "metadata": {},
   "outputs": [],
   "source": [
    "salary_check = driver.find_element_by_xpath('/html/body/div[1]/div[3]/div[2]/section[1]/div[2]/div[4]/div[2]/div[2]/label/p/span[1]')\n",
    "salary_check.click()"
   ]
  },
  {
   "cell_type": "code",
   "execution_count": null,
   "id": "a91ec2dd",
   "metadata": {},
   "outputs": [],
   "source": [
    "locations_check = driver.find_element_by_xpath('/html/body/div[1]/div[3]/div[2]/section[1]/div[2]/div[4]/div[2]/div[3]/label/p/span[1]')\n",
    "locations_check.click()"
   ]
  },
  {
   "cell_type": "code",
   "execution_count": null,
   "id": "8bf480b9",
   "metadata": {},
   "outputs": [],
   "source": [
    "title_tags = driver.find_elements_by_xpath('//a[@class=\"title fw500 ellipsis\"]')\n",
    "len(title_tags)\n",
    "job_titles = []\n",
    "for i in title_tags:\n",
    "    job_titles.append(i.text)\n",
    "len(job_titles)\n",
    "job_titles[0:4]"
   ]
  },
  {
   "cell_type": "code",
   "execution_count": null,
   "id": "2355d78f",
   "metadata": {},
   "outputs": [],
   "source": [
    "locations_check = driver.find_elements_by_xpath('//li[@class=\"fleft grey-text br2 placeHolderLi location\"]')\n",
    "len(locations_check)\n",
    "location = []\n",
    "for i in locations_check:\n",
    "    location.append(i.text)\n",
    "len(location)\n",
    "location[0:2]"
   ]
  },
  {
   "cell_type": "code",
   "execution_count": null,
   "id": "aca90a70",
   "metadata": {},
   "outputs": [],
   "source": [
    "company_tags = driver.find_elements_by_xpath('//a[@class=\"subTitle ellipsis fleft\"]')\n",
    "len(company_tags)\n",
    "company_name = []\n",
    "for i in company_tags:\n",
    "    company_name.append(i.text)\n",
    "len(company_name)\n",
    "company_name[0:10]"
   ]
  },
  {
   "cell_type": "code",
   "execution_count": null,
   "id": "185134b0",
   "metadata": {},
   "outputs": [],
   "source": [
    "experiance = driver.find_elements_by_xpath('//li[@class=\"fleft grey-text br2 placeHolderLi experience\"]')\n",
    "len(experiance)\n",
    "exp = []\n",
    "for i in experiance:\n",
    "    exp.append(i.text)\n",
    "len(exp)\n",
    "exp[0:10]"
   ]
  },
  {
   "cell_type": "code",
   "execution_count": null,
   "id": "7bd51816",
   "metadata": {},
   "outputs": [],
   "source": [
    "salary = driver.find_elements_by_xpath('//span[@class=\"ellipsis fleft\"]')\n",
    "len(salary)\n",
    "sal = []\n",
    "for i in salary:\n",
    "    sal.append(i.text)\n",
    "len(sal)\n",
    "sal[0:2]"
   ]
  },
  {
   "cell_type": "code",
   "execution_count": null,
   "id": "4292d4ad",
   "metadata": {},
   "outputs": [],
   "source": [
    "len(job_titles),len(location),len(company_name),len(exp),len(salary)"
   ]
  },
  {
   "cell_type": "code",
   "execution_count": null,
   "id": "94a2dede",
   "metadata": {},
   "outputs": [],
   "source": [
    "jobs = pd.DataFrame()\n",
    "jobs['Job Title'] = job_titles\n",
    "jobs['Company'] = company_name\n",
    "jobs['Experince'] = exp\n",
    "jobs['Location'] = location\n",
    "jobs[0:10]"
   ]
  },
  {
   "cell_type": "markdown",
   "id": "fa7076e5",
   "metadata": {},
   "source": [
    "# Q4: Scrape data of first 100 sunglasses listings on flipkart.com. You have to scrape four attributes:"
   ]
  },
  {
   "cell_type": "code",
   "execution_count": null,
   "id": "67a8a716",
   "metadata": {},
   "outputs": [],
   "source": [
    "driver = webdriver.Chrome('chromedriver.exe')\n",
    "url = 'https://www.flipkart.com/'\n",
    "driver.get(url)"
   ]
  },
  {
   "cell_type": "code",
   "execution_count": null,
   "id": "ae35932b",
   "metadata": {},
   "outputs": [],
   "source": [
    "search_job = driver.find_element_by_class_name(\"_3704LK\")\n",
    "search_job\n",
    "search_job.send_keys(\"sunglasses\")\n",
    "search_job\n"
   ]
  },
  {
   "cell_type": "code",
   "execution_count": null,
   "id": "a3101ded",
   "metadata": {},
   "outputs": [],
   "source": [
    "search = driver.find_element_by_xpath('/html/body/div[1]/div/div[1]/div[1]/div[2]/div[2]/form/div/button')\n",
    "search\n",
    "search.click()"
   ]
  },
  {
   "cell_type": "code",
   "execution_count": null,
   "id": "392d60a5",
   "metadata": {},
   "outputs": [],
   "source": [
    "brand =  driver.find_elements_by_xpath('//div[@class=\"_2WkVRV\"]')\n",
    "len(brand)"
   ]
  },
  {
   "cell_type": "code",
   "execution_count": null,
   "id": "6b3d208c",
   "metadata": {},
   "outputs": [],
   "source": [
    "\n",
    "brand_names = []\n",
    "for i in brand:\n",
    "    brand_names.append(i.text)\n",
    "#len(brand_names)brand_names \n",
    "brand_names[0:4]"
   ]
  },
  {
   "cell_type": "code",
   "execution_count": null,
   "id": "83f3abc4",
   "metadata": {},
   "outputs": [],
   "source": [
    "Product_Description = driver.find_elements_by_xpath('//a[@class=\"IRpwTa\"]')\n",
    "len(Product_Description)"
   ]
  },
  {
   "cell_type": "code",
   "execution_count": null,
   "id": "71f72b61",
   "metadata": {},
   "outputs": [],
   "source": [
    "product = []\n",
    "for i in Product_Description:\n",
    "    product.append(i.text)\n",
    "product[0:4]"
   ]
  },
  {
   "cell_type": "code",
   "execution_count": null,
   "id": "1632e515",
   "metadata": {},
   "outputs": [],
   "source": [
    "price = driver.find_elements_by_xpath('//div[@class=\"_30jeq3\"]')\n",
    "len(price)"
   ]
  },
  {
   "cell_type": "code",
   "execution_count": null,
   "id": "f66d0599",
   "metadata": {},
   "outputs": [],
   "source": [
    "prices = []\n",
    "for i in price:\n",
    "    prices.append(i.text)\n",
    "prices[0:4]"
   ]
  },
  {
   "cell_type": "code",
   "execution_count": null,
   "id": "dc473127",
   "metadata": {},
   "outputs": [],
   "source": [
    "brand =  driver.find_elements_by_xpath('//div[@class=\"_2WkVRV\"]')\n",
    "len(brand)"
   ]
  },
  {
   "cell_type": "code",
   "execution_count": null,
   "id": "67909efc",
   "metadata": {},
   "outputs": [],
   "source": [
    "brand_names = []\n",
    "for i in brand:\n",
    "    brand_names.append(i.text)\n",
    "len(brand_names)\n",
    "brand_names[0:4]"
   ]
  },
  {
   "cell_type": "code",
   "execution_count": null,
   "id": "d9ed1957",
   "metadata": {},
   "outputs": [],
   "source": [
    "Product_Description = driver.find_elements_by_xpath('//a[@class=\"IRpwTa\"]')\n",
    "len(Product_Description)"
   ]
  },
  {
   "cell_type": "code",
   "execution_count": null,
   "id": "1baa2b68",
   "metadata": {},
   "outputs": [],
   "source": [
    "product = []\n",
    "for i in Product_Description:\n",
    "    product.append(i.text)\n",
    "product[0:4]"
   ]
  },
  {
   "cell_type": "code",
   "execution_count": null,
   "id": "ce31f276",
   "metadata": {},
   "outputs": [],
   "source": [
    "price = driver.find_elements_by_xpath('//div[@class=\"_30jeq3\"]')\n",
    "len(price)"
   ]
  },
  {
   "cell_type": "code",
   "execution_count": null,
   "id": "6c396568",
   "metadata": {},
   "outputs": [],
   "source": [
    "prices = []\n",
    "for i in price:\n",
    "    prices.append(i.text)\n",
    "prices[0:4]"
   ]
  },
  {
   "cell_type": "code",
   "execution_count": null,
   "id": "d22942b6",
   "metadata": {},
   "outputs": [],
   "source": [
    "flip = pd.DataFrame()\n",
    "flip['Brand'] = brand_names \n",
    "flip['Product'] = product\n",
    "flip['Price'] = prices\n",
    "flip[0:100]"
   ]
  },
  {
   "cell_type": "markdown",
   "id": "3c59f144",
   "metadata": {},
   "source": [
    "# Q5: Scrape 100 reviews data from flipkart.com for iphone11 phone. You have to go the link:"
   ]
  },
  {
   "cell_type": "code",
   "execution_count": null,
   "id": "8d60a661",
   "metadata": {},
   "outputs": [],
   "source": [
    "driver = webdriver.Chrome('chromedriver.exe')\n",
    "url = 'https://www.flipkart.com/'\n",
    "driver.get(url)"
   ]
  },
  {
   "cell_type": "code",
   "execution_count": null,
   "id": "96722c0b",
   "metadata": {},
   "outputs": [],
   "source": [
    "rating =  driver.find_elements_by_class_name(\"_3LWZlK\")\n",
    "len(rating)\n",
    "#rating"
   ]
  },
  {
   "cell_type": "code",
   "execution_count": null,
   "id": "86828187",
   "metadata": {},
   "outputs": [],
   "source": [
    "ratings = []\n",
    "for i in rating:\n",
    "    ratings.append(i.text)\n",
    "ratings[0:2]"
   ]
  },
  {
   "cell_type": "code",
   "execution_count": null,
   "id": "9c192ddf",
   "metadata": {},
   "outputs": [],
   "source": [
    "reviews =  driver.find_elements_by_xpath('//*[@id=\"container\"]/div/div[3]/div[1]/div[2]/div[7]/div/div/div[4]/div/div[4]/div[1]/div/div/div[1]/p')\n",
    "len(rating)\n",
    "#reviews"
   ]
  },
  {
   "cell_type": "markdown",
   "id": "5d6c5b61",
   "metadata": {},
   "source": [
    "\n",
    "# Q6: Scrape data for first 100 sneakers you find when you visit flipkart.com andsearch for “sneakers” in the\n",
    "search field."
   ]
  },
  {
   "cell_type": "code",
   "execution_count": null,
   "id": "cfc9e5c7",
   "metadata": {},
   "outputs": [],
   "source": [
    "driver = webdriver.Chrome('chromedriver.exe')\n",
    "url = 'https://www.flipkart.com/'\n",
    "driver.get(url)"
   ]
  },
  {
   "cell_type": "code",
   "execution_count": null,
   "id": "05e4cd24",
   "metadata": {},
   "outputs": [],
   "source": [
    "searchflip = driver.find_element_by_class_name(\"_3704LK\")\n",
    "searchflip\n",
    "searchflip.send_keys(\"sneakers\")\n",
    "searchflip"
   ]
  },
  {
   "cell_type": "code",
   "execution_count": null,
   "id": "d0e62356",
   "metadata": {},
   "outputs": [],
   "source": [
    "search = driver.find_element_by_xpath('/html/body/div[1]/div/div[1]/div[1]/div[2]/div[2]/form/div/button')\n",
    "search\n",
    "search.click()"
   ]
  },
  {
   "cell_type": "code",
   "execution_count": null,
   "id": "620dba61",
   "metadata": {},
   "outputs": [],
   "source": [
    "brand1 =  driver.find_elements_by_class_name(\"_2WkVRV\")\n",
    "len(brand1)\n"
   ]
  },
  {
   "cell_type": "code",
   "execution_count": null,
   "id": "d6df3934",
   "metadata": {},
   "outputs": [],
   "source": [
    "brands = []\n",
    "for i in brand1:\n",
    "    brands.append(i.text)\n",
    "brands[0:40]"
   ]
  },
  {
   "cell_type": "code",
   "execution_count": null,
   "id": "54ca084e",
   "metadata": {},
   "outputs": [],
   "source": [
    "Product_Description = driver.find_elements_by_xpath('//a[@class=\"IRpwTa\"]')\n",
    "len(Product_Description)"
   ]
  },
  {
   "cell_type": "code",
   "execution_count": null,
   "id": "4567994f",
   "metadata": {},
   "outputs": [],
   "source": [
    "product_desc = []\n",
    "for i in Product_Description:\n",
    "    product_desc.append(i.text)\n",
    "product_desc[0:40]"
   ]
  },
  {
   "cell_type": "code",
   "execution_count": null,
   "id": "bb48ffd4",
   "metadata": {},
   "outputs": [],
   "source": [
    "price1 = driver.find_elements_by_xpath('//div[@class=\"_30jeq3\"]')\n",
    "len(price1)"
   ]
  },
  {
   "cell_type": "code",
   "execution_count": null,
   "id": "0da734ab",
   "metadata": {},
   "outputs": [],
   "source": [
    "product_price = []\n",
    "for i in price1:\n",
    "    product_price.append(i.text)\n",
    "product_price[0:40]"
   ]
  },
  {
   "cell_type": "code",
   "execution_count": null,
   "id": "0708c8fb",
   "metadata": {},
   "outputs": [],
   "source": [
    "brand2 =  driver.find_elements_by_class_name(\"_2WkVRV\")\n",
    "len(brand2)"
   ]
  },
  {
   "cell_type": "code",
   "execution_count": null,
   "id": "5beac887",
   "metadata": {},
   "outputs": [],
   "source": [
    "brandss = []\n",
    "for i in brand2:\n",
    "    brandss.append(i.text)\n",
    "brandss[0:40]"
   ]
  },
  {
   "cell_type": "code",
   "execution_count": null,
   "id": "144197dc",
   "metadata": {},
   "outputs": [],
   "source": [
    "Product_Description2 = driver.find_elements_by_xpath('//a[@class=\"IRpwTa\"]')\n",
    "len(Product_Description2)\n"
   ]
  },
  {
   "cell_type": "code",
   "execution_count": null,
   "id": "54d867e1",
   "metadata": {},
   "outputs": [],
   "source": [
    "product_desc2 = []\n",
    "for i in Product_Description2:\n",
    "    product_desc2.append(i.text)\n",
    "product_desc2[0:40]"
   ]
  },
  {
   "cell_type": "code",
   "execution_count": null,
   "id": "bd18e77f",
   "metadata": {},
   "outputs": [],
   "source": [
    "price2 = driver.find_elements_by_xpath('//div[@class=\"_30jeq3\"]')\n",
    "len(price1)"
   ]
  },
  {
   "cell_type": "code",
   "execution_count": null,
   "id": "a5deb161",
   "metadata": {},
   "outputs": [],
   "source": [
    "product_price1 = []\n",
    "for i in price2:\n",
    "    product_price1.append(i.text)\n",
    "product_price1[0:40]"
   ]
  },
  {
   "cell_type": "markdown",
   "id": "ead679a7",
   "metadata": {},
   "source": [
    "# Q7: Go to the link - https://www.myntra.com/shoes\n",
    "# Set Price filter to “Rs. 7149 to Rs. 14099 ” , Color filter to “Black”, as shown inthe below image."
   ]
  },
  {
   "cell_type": "code",
   "execution_count": null,
   "id": "43c6b459",
   "metadata": {},
   "outputs": [],
   "source": [
    "driver = webdriver.Chrome('chromedriver.exe')\n",
    "url = 'https://www.myntra.com/shoes/'\n",
    "driver.get(url)"
   ]
  },
  {
   "cell_type": "code",
   "execution_count": null,
   "id": "78e2402d",
   "metadata": {},
   "outputs": [],
   "source": [
    "Price_filter = driver.find_element_by_xpath('/html/body/div[2]/div/div[1]/main/div[3]/div[1]/section/div/div[5]/ul/li[1]/label')\n",
    "Price_filter.click()"
   ]
  },
  {
   "cell_type": "code",
   "execution_count": null,
   "id": "c6024aff",
   "metadata": {},
   "outputs": [],
   "source": [
    "Color_filter = driver.find_element_by_xpath('/html/body/div[2]/div/div[1]/main/div[3]/div[1]/section/div/div[6]/ul/li[1]/label')\n",
    "Color_filter.click()"
   ]
  },
  {
   "cell_type": "code",
   "execution_count": null,
   "id": "edccb520",
   "metadata": {},
   "outputs": [],
   "source": [
    "brand1 =  driver.find_elements_by_class_name(\"product-brand\")\n",
    "len(brand1)"
   ]
  },
  {
   "cell_type": "code",
   "execution_count": null,
   "id": "ee2aefa5",
   "metadata": {},
   "outputs": [],
   "source": [
    "brands = []\n",
    "for i in brand1:\n",
    "    brands.append(i.text)\n",
    "brands[0:40]"
   ]
  },
  {
   "cell_type": "code",
   "execution_count": null,
   "id": "425ea728",
   "metadata": {},
   "outputs": [],
   "source": [
    "brand2 =  driver.find_elements_by_class_name(\"product-brand\")\n",
    "len(brand2)"
   ]
  },
  {
   "cell_type": "code",
   "execution_count": null,
   "id": "d7dab6c5",
   "metadata": {},
   "outputs": [],
   "source": [
    "brands2 = []\n",
    "for i in brand2:\n",
    "    brands2.append(i.text)\n",
    "brands2[0:40]"
   ]
  },
  {
   "cell_type": "code",
   "execution_count": null,
   "id": "cc0d3b09",
   "metadata": {},
   "outputs": [],
   "source": [
    "Product_Description1 = driver.find_elements_by_xpath('//h4[@class=\"product-product\"]')\n",
    "len(Product_Description1)\n"
   ]
  },
  {
   "cell_type": "code",
   "execution_count": null,
   "id": "973582ba",
   "metadata": {},
   "outputs": [],
   "source": [
    "product_desc1 = []\n",
    "for i in Product_Description1:\n",
    "    product_desc1.append(i.text)\n",
    "product_desc1[0:40]"
   ]
  },
  {
   "cell_type": "code",
   "execution_count": null,
   "id": "fc6c2f30",
   "metadata": {},
   "outputs": [],
   "source": [
    "Product_Description2 = driver.find_elements_by_xpath('//h4[@class=\"product-product\"]')\n",
    "len(Product_Description2)"
   ]
  },
  {
   "cell_type": "code",
   "execution_count": null,
   "id": "707df11a",
   "metadata": {},
   "outputs": [],
   "source": [
    "product_desc2 = []\n",
    "for i in Product_Description2:\n",
    "    product_desc2.append(i.text)\n",
    "product_desc2[0:40]"
   ]
  },
  {
   "cell_type": "code",
   "execution_count": null,
   "id": "5bdaca81",
   "metadata": {},
   "outputs": [],
   "source": [
    "price1 = driver.find_elements_by_xpath('//span[@class=\"product-discountedPrice\"]')\n",
    "len(price1)"
   ]
  },
  {
   "cell_type": "code",
   "execution_count": null,
   "id": "5e9ee576",
   "metadata": {},
   "outputs": [],
   "source": [
    "product_price1 = []\n",
    "for i in price1:\n",
    "    product_price1.append(i.text)\n",
    "product_price1[0:40]"
   ]
  },
  {
   "cell_type": "code",
   "execution_count": null,
   "id": "74a8504b",
   "metadata": {},
   "outputs": [],
   "source": [
    "price2 = driver.find_elements_by_xpath('//span[@class=\"product-discountedPrice\"]')\n",
    "len(price2)"
   ]
  },
  {
   "cell_type": "code",
   "execution_count": null,
   "id": "74a1e383",
   "metadata": {},
   "outputs": [],
   "source": [
    "product_price2 = []\n",
    "for i in price2:\n",
    "    product_price2.append(i.text)\n",
    "product_price2[0:40]"
   ]
  },
  {
   "cell_type": "markdown",
   "id": "ceab1cf2",
   "metadata": {},
   "source": [
    "# Q8: Go to webpage https://www.amazon.in/\n"
   ]
  },
  {
   "cell_type": "code",
   "execution_count": null,
   "id": "429cab84",
   "metadata": {},
   "outputs": [],
   "source": [
    "driver = webdriver.Chrome('chromedriver.exe')\n",
    "url = 'https://www.amazon.in/'\n",
    "driver.get(url)"
   ]
  },
  {
   "cell_type": "code",
   "execution_count": null,
   "id": "df99c4e0",
   "metadata": {},
   "outputs": [],
   "source": [
    "configuration = driver.find_element_by_xpath('/html/body/div[1]/div[2]/div[1]/div[2]/div/div[3]/span/div[1]/div/div/div[6]/ul[3]/li[12]/span/a/span')\n",
    "configuration.click()"
   ]
  },
  {
   "cell_type": "code",
   "execution_count": null,
   "id": "baf30c6b",
   "metadata": {},
   "outputs": [],
   "source": [
    "confi2 = driver.find_element_by_xpath('/html/body/div[1]/div[2]/div[1]/div[2]/div/div[3]/span/div[1]/div/div/div[6]/ul[3]/li[12]/span/a/span')\n",
    "confi2.click()"
   ]
  },
  {
   "cell_type": "code",
   "execution_count": null,
   "id": "661e69f1",
   "metadata": {},
   "outputs": [],
   "source": [
    "title = driver.find_elements_by_xpath('//h2[@class=\"a-size-mini a-spacing-none a-color-base s-line-clamp-2\"]')\n",
    "len(title)"
   ]
  },
  {
   "cell_type": "code",
   "execution_count": null,
   "id": "d7d6c5a6",
   "metadata": {},
   "outputs": [],
   "source": [
    "pro_title = []\n",
    "for i in title:\n",
    "    pro_title.append(i.text)\n",
    "pro_title[0:40]"
   ]
  },
  {
   "cell_type": "code",
   "execution_count": null,
   "id": "3a374a4a",
   "metadata": {},
   "outputs": [],
   "source": [
    "ratings = driver.find_elements_by_xpath('//div[@class=\"a-row a-size-small\"]')\n",
    "len(ratings)\n"
   ]
  },
  {
   "cell_type": "code",
   "execution_count": null,
   "id": "0dcf0460",
   "metadata": {},
   "outputs": [],
   "source": [
    "pro_rating = []\n",
    "for i in ratings:\n",
    "    pro_rating.append(i.text)\n",
    "pro_rating[0:40]"
   ]
  },
  {
   "cell_type": "code",
   "execution_count": null,
   "id": "e48503c4",
   "metadata": {},
   "outputs": [],
   "source": [
    "rate = driver.find_elements_by_xpath('//span[@class=\"a-price-whole\"]')\n",
    "len(rate)"
   ]
  },
  {
   "cell_type": "code",
   "execution_count": null,
   "id": "cf41519c",
   "metadata": {},
   "outputs": [],
   "source": [
    "laptop_rate = []\n",
    "for i in rate:\n",
    "    laptop_rate.append(i.text)\n",
    "laptop_rate[0:40]"
   ]
  },
  {
   "cell_type": "markdown",
   "id": "d4b1f917",
   "metadata": {},
   "source": [
    "# Q9: Write a python program to scrape data for first 10 job results for Data Scientist Designation in Noida\n",
    "location. You have to scrape company name, No. of days ago when job was posted, Rating of the company."
   ]
  },
  {
   "cell_type": "code",
   "execution_count": null,
   "id": "1b10b1f9",
   "metadata": {},
   "outputs": [],
   "source": [
    "driver = webdriver.Chrome('chromedriver.exe')\n",
    "url = 'https://www.ambitionbox.com/'\n",
    "driver.get(url)"
   ]
  },
  {
   "cell_type": "code",
   "execution_count": null,
   "id": "97acb904",
   "metadata": {},
   "outputs": [],
   "source": [
    "comp_name = driver.find_elements_by_xpath('//a[@class=\"title noclick\"]')\n",
    "len(comp_names)\n",
    "comp_names = []\n",
    "for i in comp_name:\n",
    "    comp_names .append(i.text)\n",
    "len(comp_names )\n",
    "comp_names [0:10]"
   ]
  },
  {
   "cell_type": "code",
   "execution_count": null,
   "id": "7fb020c5",
   "metadata": {},
   "outputs": [],
   "source": [
    "posted = driver.find_elements_by_xpath('//span[@class=\"body-small-l\"]')\n",
    "#posted = driver.find_elements_by_xpath('//span[@class=\"body-small-l\"]')\n",
    "#len(posted)\n",
    "comp_post = []\n",
    "for i in posted:\n",
    "    comp_post .append(i.text)\n",
    "len(comp_post)\n",
    "post = comp_post [0:100:2]"
   ]
  },
  {
   "cell_type": "code",
   "execution_count": null,
   "id": "15f6118f",
   "metadata": {},
   "outputs": [],
   "source": [
    "#rating= driver.find_elements_by_xpath('//a[@class=\"rating rating-4\"]')\n",
    "rating= driver.find_elements_by_xpath('//span[@class=\"body-small\"]')\n",
    "#len(posted)\n",
    "ratings = []\n",
    "for i in rating:\n",
    "    ratings .append(i.text)\n",
    "len(ratings)\n",
    "ratings [0:10]"
   ]
  },
  {
   "cell_type": "code",
   "execution_count": null,
   "id": "92acef51",
   "metadata": {},
   "outputs": [],
   "source": [
    "ambition = pd.DataFrame()\n",
    "ambition['Company Name'] = comp_names \n",
    "ambition['Posted'] = post\n",
    "ambition['Ratings'] = ratings\n",
    "ambition"
   ]
  },
  {
   "cell_type": "markdown",
   "id": "4e5a0b13",
   "metadata": {},
   "source": [
    "# Q10: Write a python program to scrape the salary data for Data Scientist designation.\n",
    "You have to scrape Company name, Number of salaries, Average salary, Minsalary, Max Salary.\n"
   ]
  },
  {
   "cell_type": "code",
   "execution_count": 4,
   "id": "b6731be0",
   "metadata": {},
   "outputs": [],
   "source": [
    "driver = webdriver.Chrome('chromedriver.exe')\n",
    "url = 'https://www.ambitionbox.com/'\n",
    "driver.get(url)"
   ]
  },
  {
   "cell_type": "code",
   "execution_count": 45,
   "id": "a19a9473",
   "metadata": {},
   "outputs": [
    {
     "data": {
      "text/plain": [
       "10"
      ]
     },
     "execution_count": 45,
     "metadata": {},
     "output_type": "execute_result"
    }
   ],
   "source": [
    "comp_name1 = driver.find_elements_by_xpath('//div[@class=\"name\"]')\n",
    "#comp_name1 = driver.find_elements_by_class_name('data-v-2bae05f7')\n",
    "#len(comp_names)\n",
    "comp_names = []\n",
    "for i in comp_name1:\n",
    "    comp_names .append(i.text)\n",
    "len(comp_names )\n",
    "#comp_names [0:10]"
   ]
  },
  {
   "cell_type": "code",
   "execution_count": 56,
   "id": "ea9b1317",
   "metadata": {},
   "outputs": [
    {
     "data": {
      "text/plain": [
       "['₹ 17.7L', '₹ 15.0L', '₹ 9.8L', '₹ 9.5L', '₹ 11.0L']"
      ]
     },
     "execution_count": 56,
     "metadata": {},
     "output_type": "execute_result"
    }
   ],
   "source": [
    "min_salary  = driver.find_elements_by_xpath('//div[@class=\"value body-medium\"]')\n",
    "#total_salary = driver.find_elements_by_class_name('data-v-2bf6feb2')\n",
    "#len(comp_names)\n",
    "minsalary = []\n",
    "for i in min_salary:\n",
    "    minsalary .append(i.text)\n",
    "len(salary)\n",
    "minsalary [0:10:2]"
   ]
  },
  {
   "cell_type": "code",
   "execution_count": 55,
   "id": "e1371ede",
   "metadata": {},
   "outputs": [
    {
     "data": {
      "text/plain": [
       "['₹ 17.7L',\n",
       " '₹ 35.0L',\n",
       " '₹ 15.0L',\n",
       " '₹ 25.0L',\n",
       " '₹ 9.8L',\n",
       " '₹ 20.0L',\n",
       " '₹ 9.5L',\n",
       " '₹ 22.0L',\n",
       " '₹ 11.0L',\n",
       " '₹ 21.3L']"
      ]
     },
     "execution_count": 55,
     "metadata": {},
     "output_type": "execute_result"
    }
   ],
   "source": [
    "avg_salary  = driver.find_elements_by_xpath('//div[@class=\"value body-medium\"]')\n",
    "#comp_name1 = driver.find_elements_by_class_name('data-v-2bf6feb2')\n",
    "#len(comp_names)\n",
    "avg = []\n",
    "for i in avg_salary:\n",
    "    avg .append(i.text)\n",
    "len(avg)\n",
    "salary [0:10]"
   ]
  },
  {
   "cell_type": "code",
   "execution_count": null,
   "id": "2ced69da",
   "metadata": {},
   "outputs": [],
   "source": []
  }
 ],
 "metadata": {
  "kernelspec": {
   "display_name": "Python 3",
   "language": "python",
   "name": "python3"
  },
  "language_info": {
   "codemirror_mode": {
    "name": "ipython",
    "version": 3
   },
   "file_extension": ".py",
   "mimetype": "text/x-python",
   "name": "python",
   "nbconvert_exporter": "python",
   "pygments_lexer": "ipython3",
   "version": "3.8.8"
  }
 },
 "nbformat": 4,
 "nbformat_minor": 5
}
