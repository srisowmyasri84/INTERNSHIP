{
 "cells": [
  {
   "cell_type": "code",
   "execution_count": null,
   "id": "8392b7c1",
   "metadata": {},
   "outputs": [],
   "source": [
    "import selenium\n",
    "from selenium import webdriver\n",
    "import pandas as pd\n",
    "import time\n",
    "from selenium.common.exceptions import NoSuchElementException\n",
    "import warnings\n",
    "warnings.filterwarnings('ignore')"
   ]
  },
  {
   "cell_type": "code",
   "execution_count": null,
   "id": "d4209245",
   "metadata": {},
   "outputs": [],
   "source": [
    "driver = webdriver.Chrome('chromedriver.exe')\n",
    "driver.get(\"http://www.amazon.in/guitar\")\n"
   ]
  },
  {
   "cell_type": "code",
   "execution_count": null,
   "id": "f2714db5",
   "metadata": {},
   "outputs": [],
   "source": [
    "urls=[]\n",
    "for i in driver.find_elements_by_xpath('//a[@class = \"a-link-normal s-underline-text s-underline-link-text s-link-style a-text-normal\"]'):\n",
    "    urls.append(i.get_attribute(\"href\"))"
   ]
  },
  {
   "cell_type": "code",
   "execution_count": null,
   "id": "1b7e0674",
   "metadata": {},
   "outputs": [],
   "source": [
    "len(urls)"
   ]
  },
  {
   "cell_type": "code",
   "execution_count": null,
   "id": "a409d663",
   "metadata": {},
   "outputs": [],
   "source": [
    "urls"
   ]
  },
  {
   "cell_type": "code",
   "execution_count": null,
   "id": "b7a24ede",
   "metadata": {},
   "outputs": [],
   "source": [
    "Brand_Name = []\n",
    "price =[]\n",
    "Return_Exchange =[]\n",
    "Expected_Delivery=[]\n"
   ]
  },
  {
   "cell_type": "code",
   "execution_count": null,
   "id": "d5441151",
   "metadata": {},
   "outputs": [],
   "source": [
    "for i in urls:\n",
    "    driver.get(i)\n",
    "    time.sleep(2)\n",
    "    try:\n",
    "        Brand=driver.find_element_by_xpath(\"//span[@class='a-size-base-plus a-color-base a-text-normal']\")\n",
    "        Brand_Name.append(job.text.replace(\"/n\",\"new line\"))\n",
    "    except:\n",
    "           Brand_Name.append('-')\n",
    "                            \n",
    "    try:\n",
    "        price=driver.find_element_by_xpatBrand_Nameh(\"//section[@class='job-desc']\")\n",
    "        price.append(prices.text)\n",
    "    except:\n",
    "           price.append('-')                                      \n",
    "                  \n",
    "    try:\n",
    "        Return_Exchange=driver.find_element_by_xpath(\"//span[@class='slide-meta-loc pull-left']\")\n",
    "        Return_Exchange.append( Return_Exchange.text)\n",
    "    except:\n",
    "           Return_Exchange.append('-')   \n",
    "            \n"
   ]
  },
  {
   "cell_type": "code",
   "execution_count": null,
   "id": "8fe16cc3",
   "metadata": {},
   "outputs": [],
   "source": [
    "    try:\n",
    "        Expected_Delivery=driver.find_element_by_xpath(\"//div[@class='dynamicDeliveryMessage']\")\n",
    "        Expected_Delivery.append(Expected_Delivery.text)\n",
    "    except:\n",
    "           Expected_Delivery.append('-')   "
   ]
  },
  {
   "cell_type": "code",
   "execution_count": null,
   "id": "889ffc89",
   "metadata": {},
   "outputs": [],
   "source": [
    "len(Brand_Name),len(price),len(Return_Exchange),len(Expected_Delivery)"
   ]
  },
  {
   "cell_type": "code",
   "execution_count": null,
   "id": "492a27f7",
   "metadata": {},
   "outputs": [],
   "source": [
    "frame=pd.DataFrame()\n",
    "frame['Brand_Name'] = Brand_Name\n",
    "frame['price'] = price\n",
    "frame['Return_Exchange'] = Return_Exchange\n",
    "#frame[\"Expected_Delivery\"] = Expected_Delivery\n",
    "frame"
   ]
  },
  {
   "cell_type": "markdown",
   "id": "1c2e397f",
   "metadata": {},
   "source": [
    "# Write a python program to access the search bar and search button on images.google.com and scrape 10\n",
    "images each for keywords ‘fruits’, ‘cars’ and ‘Machine Learning’, ‘Guitar’, ‘Cakes’."
   ]
  },
  {
   "cell_type": "code",
   "execution_count": null,
   "id": "ef4f54bc",
   "metadata": {},
   "outputs": [],
   "source": [
    "driver = webdriver.Chrome('chromedriver.exe')\n",
    "driver.get(\"https://www.google.com/search?q=fruits + img&sorce = inms&tbm = isch\")\n"
   ]
  },
  {
   "cell_type": "code",
   "execution_count": null,
   "id": "c1197225",
   "metadata": {},
   "outputs": [],
   "source": []
  },
  {
   "cell_type": "code",
   "execution_count": null,
   "id": "f1b5e741",
   "metadata": {},
   "outputs": [],
   "source": [
    "fruits_img = driver.find_elements_by_xpath('//div[@class=\"eA0Zlc PZPZlf qN5nNb ivg-i GMCzAd\"]')\n",
    "fruits_img = []\n",
    "for i in fruits_img:\n",
    "    fruits_img.append(i.img)\n",
    "len(fruits_img)\n",
    "#fruits_img[0:4]driver"
   ]
  },
  {
   "cell_type": "code",
   "execution_count": null,
   "id": "a43c727c",
   "metadata": {},
   "outputs": [],
   "source": [
    "cars_img = driver.find_elements_by_xpath('//div[@class=\"fWhgmd\"]')\n",
    "fruits_img = []\n",
    "for i in fruits_img:\n",
    "    fruits_img.append(i.img)\n",
    "len(fruits_img)\n",
    "#fruits_img[0:4]"
   ]
  },
  {
   "cell_type": "markdown",
   "id": "965bb7ef",
   "metadata": {},
   "source": [
    "# Write a python program to search for a smartphone(e.g.: Oneplus Nord, pixel 4A, etc.) on\n",
    "www.flipkart.com and scrape following details for all the search results displayed on 1st page. Details to be \n",
    "scraped: “Brand Name”, “Smartphone name”, “Colour”, “RAM”, “Storage(ROM)”, “Primary Camera”, \n",
    "“Secondary Camera”, “Display Size”, “Battery Capacity”, “Price”, “Product URL”. Incase if any of the \n",
    "details is missing then replace it by “- “. Save your results in a dataframe and CSV."
   ]
  },
  {
   "cell_type": "code",
   "execution_count": null,
   "id": "3e2c67a5",
   "metadata": {},
   "outputs": [],
   "source": [
    "driver = webdriver.Chrome('chromedriver.exe')\n",
    "driver.get(\"https://www.flipkart.com/search?q=pixel 4A &sorce = inms&tbm = isch\")"
   ]
  },
  {
   "cell_type": "code",
   "execution_count": null,
   "id": "9f0303ce",
   "metadata": {},
   "outputs": [],
   "source": [
    "urls=[]\n",
    "for i in driver.find_elements_by_xpath('//a[@class = \"_1fQZEK\"]'):\n",
    "    urls.append(i.get_attribute(\"href\"))"
   ]
  },
  {
   "cell_type": "code",
   "execution_count": null,
   "id": "88cbc34d",
   "metadata": {},
   "outputs": [],
   "source": [
    "len(urls)"
   ]
  },
  {
   "cell_type": "code",
   "execution_count": null,
   "id": "2353c99d",
   "metadata": {},
   "outputs": [],
   "source": [
    "urls"
   ]
  },
  {
   "cell_type": "code",
   "execution_count": null,
   "id": "612b7930",
   "metadata": {},
   "outputs": [],
   "source": [
    "for i in urls:\n",
    "    driver.get(i)\n",
    "    time.sleep(2)\n",
    "    try:\n",
    "        brand.find_element_by_xpath(\"//id[@class='_2rpwqI']\")\n",
    "        brand.append(job.text.replace(\"/n\",\"new line\"))\n",
    "    except:\n",
    "           brand.append('-')\n",
    "                            \n",
    "    try:\n",
    "        colour=driver.find_element_by_xpath(\"//span[@class='_1rcQuH']\")\n",
    "        colour.append(job_desc.text)\n",
    "    except:\n",
    "           colour.append('-')                                      \n",
    "                  \n",
    "    try:\n",
    "        price=driver.find_element_by_xpath(\"//div[@class='_30jeq3 _1_WHN1']\")\n",
    "        price.append(price.text)\n",
    "    except:\n",
    "           price.append('-')   \n"
   ]
  },
  {
   "cell_type": "markdown",
   "id": "904564e0",
   "metadata": {},
   "source": [
    "# Write a program to scrap geospatial coordinates (latitude, longitude) of a city searched on google\n",
    "maps"
   ]
  },
  {
   "cell_type": "code",
   "execution_count": 3,
   "id": "0cbb5d9d",
   "metadata": {},
   "outputs": [
    {
     "ename": "NameError",
     "evalue": "name 'webdriver' is not defined",
     "output_type": "error",
     "traceback": [
      "\u001b[1;31m---------------------------------------------------------------------------\u001b[0m",
      "\u001b[1;31mNameError\u001b[0m                                 Traceback (most recent call last)",
      "\u001b[1;32m<ipython-input-3-bf957318c560>\u001b[0m in \u001b[0;36m<module>\u001b[1;34m\u001b[0m\n\u001b[1;32m----> 1\u001b[1;33m \u001b[0mdriver\u001b[0m \u001b[1;33m=\u001b[0m \u001b[0mwebdriver\u001b[0m\u001b[1;33m.\u001b[0m\u001b[0mChrome\u001b[0m\u001b[1;33m(\u001b[0m\u001b[1;33m)\u001b[0m\u001b[1;33m\u001b[0m\u001b[1;33m\u001b[0m\u001b[0m\n\u001b[0m\u001b[0;32m      2\u001b[0m \u001b[0mdriver\u001b[0m\u001b[1;33m.\u001b[0m\u001b[0mget\u001b[0m\u001b[1;33m(\u001b[0m\u001b[1;34m\"https://www.google.co.in/maps/@10.8091781,78.2885026,7z\"\u001b[0m\u001b[1;33m)\u001b[0m\u001b[1;33m\u001b[0m\u001b[1;33m\u001b[0m\u001b[0m\n\u001b[0;32m      3\u001b[0m \u001b[0msleep\u001b[0m\u001b[1;33m(\u001b[0m\u001b[1;36m2\u001b[0m\u001b[1;33m)\u001b[0m\u001b[1;33m\u001b[0m\u001b[1;33m\u001b[0m\u001b[0m\n\u001b[0;32m      4\u001b[0m \u001b[1;33m\u001b[0m\u001b[0m\n\u001b[0;32m      5\u001b[0m \u001b[1;33m\u001b[0m\u001b[0m\n",
      "\u001b[1;31mNameError\u001b[0m: name 'webdriver' is not defined"
     ]
    }
   ],
   "source": [
    "driver = webdriver.Chrome()\n",
    "driver.get(\"https://www.google.co.in/maps/@10.8091781,78.2885026,7z\")\n",
    "sleep(2)\n",
    "  \n",
    "  \n",
    "# search locations\n",
    "def searchplace():\n",
    "    Place = driver.find_element_by_class_name(\"tactile-searchbox-input\")\n",
    "    Place.send_keys(\"Tiruchirappalli\")\n",
    "    Submit = driver.find_element_by_xpath(\"/html/body/jsl/div[3]/div[9]/div[3]/div[1]/div[1]/div[1]/div[2]/div[1]/button\")\n",
    "    Submit.click()\n",
    "  \n",
    "searchplace()\n",
    "  \n",
    "  \n",
    "# get directions\n",
    "def directions():\n",
    "    sleep(10)\n",
    "    directions = driver.find_element_by_xpath(\"/html/body/jsl/div[3]/div[9]/div[7]/div/div[1]/div/div/div[5]/div[1]/div/button\")\n",
    "    directions.click()\n",
    "  \n",
    "directions()\n",
    "  \n",
    "  \n",
    "# find place\n",
    "def find():\n",
    "    sleep(6)\n",
    "    find = driver.find_element_by_xpath(\"/html/body/jsl/div[3]/div[9]/div[3]/div[1]/div[2]/div/div[3]/div[1]/div[1]/div[2]/div/div/input\")\n",
    "    find.send_keys(\"Tirunelveli\")\n",
    "    sleep(2)\n",
    "    search = driver.find_element_by_xpath(\"/html/body/jsl/div[3]/div[9]/div[3]/div[1]/div[2]/div/div[3]/div[1]/div[1]/div[2]/button[1]\")\n",
    "    search.click()\n",
    "  \n",
    "    find()\n",
    "  \n",
    "  \n",
    "# get transportation details\n",
    "def kilometers():\n",
    "    sleep(5)\n",
    "    Totalkilometers = driver.find_element_by_xpath(\n",
    "        \"/html/body/jsl/div[3]/div[9]/div[7]/div/div[1]/div/div/div[5]/div[1]/div[1]/div[1]/div[1]/div[2]/div\")\n",
    "    print(\"Total Kilometers:\", Totalkilometers.text)\n",
    "    sleep(5)\n",
    "    Bus = driver.find_element_by_xpath(\n",
    "        \"/html/body/jsl/div[3]/div[9]/div[7]/div/div[1]/div/div/div[5]/div[1]/div[1]/div[1]/div[1]/div[1]/span[1]\")\n",
    "    print(\"Bus Travel:\", Bus.text)\n",
    "    sleep(7)\n",
    "    Train = driver.find_element_by_xpath(\n",
    "        \"/html/body/jsl/div[3]/div[9]/div[7]/div/div[1]/div/div/div[5]/div[2]/div[1]/div[2]/div[1]/div\")\n",
    "    print(\"Train Travel:\", Train.text)\n",
    "    sleep(7)\n",
    "  \n",
    "kilometers()"
   ]
  },
  {
   "cell_type": "code",
   "execution_count": null,
   "id": "3f8c6eed",
   "metadata": {},
   "outputs": [],
   "source": []
  }
 ],
 "metadata": {
  "kernelspec": {
   "display_name": "Python 3",
   "language": "python",
   "name": "python3"
  },
  "language_info": {
   "codemirror_mode": {
    "name": "ipython",
    "version": 3
   },
   "file_extension": ".py",
   "mimetype": "text/x-python",
   "name": "python",
   "nbconvert_exporter": "python",
   "pygments_lexer": "ipython3",
   "version": "3.8.8"
  }
 },
 "nbformat": 4,
 "nbformat_minor": 5
}
